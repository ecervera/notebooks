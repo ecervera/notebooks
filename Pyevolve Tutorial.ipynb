{
 "cells": [
  {
   "cell_type": "markdown",
   "metadata": {},
   "source": [
    "Notebook version of <a href=\"http://pyevolve.sourceforge.net/0_6rc1/getstarted.html#first-example\">Pyevolve v0.6rc1 Get Started - Tutorial</a>."
   ]
  },
  {
   "cell_type": "markdown",
   "metadata": {},
   "source": [
    "To make the API easy to use, there are default parameters for almost every parameter in Pyevolve. For example, when you will use the <a href=\"http://pyevolve.sourceforge.net/0_6rc1/module_g1dlist.html#G1DList.G1DList\">G1DList.G1DList</a> genome without specifying the Mutator, Crossover and Initializator, you will use the default ones: Swap Mutator, One Point Crossover and the Integer Initializator. All those default parameters are specified in the <a href=\"http://pyevolve.sourceforge.net/0_6rc1/module_const.html#module-Consts\">Consts</a> module (and you are highly encouraged to take a look at source code).\n",
    "\n",
    "<p>Let’s begin with the first simple example. First of all, you must know your problem, in this case, our problem is to find a simple 1D list of integers of n-size with zero in all positions. At the first look, we know by intuition that the representation needed to this problem is a 1D List, which you can found in Pyevolve by the name of <a href=\"http://pyevolve.sourceforge.net/0_6rc1/module_g1dlist.html#G1DList.G1DList\">G1DList.G1DList</a>, which means Genome 1D List. This representation is based on a python list as you will see, and is very easy to manipulate. The next step is to define the our evaluation function to our Genetic Algorithm. We want all the $n$ list positions with value of ‘0’, so we can propose the evaluation function:\n",
    "$$ f(x)=\\sum_{i=0}^n (x[i]==0) \\text{ ? 1 : 0} $$\n",
    "<p>As you can see in the above equation, with the $x$ variable representing our genome list of integers, the $f(x)$ shows our evaluation function, which is the sum of ‘0’ values in the list. For example, if we have a list with 10 elements like this:"
   ]
  },
  {
   "cell_type": "code",
   "execution_count": 1,
   "metadata": {
    "collapsed": true
   },
   "outputs": [],
   "source": [
    "x = [1, 2, 3, 8, 0, 2, 0, 4, 1, 0]"
   ]
  },
  {
   "cell_type": "markdown",
   "metadata": {
    "collapsed": true
   },
   "source": [
    "we will get the raw score value of 3, or $f(x) = 3$. It's very simple to understand. Now, let's code this.\n",
    "<p>We will define our <a href=\"http://pyevolve.sourceforge.net/0_6rc1/intro.html#term-evaluation-function\">evaluation function</a> \"eval_func\" as:"
   ]
  },
  {
   "cell_type": "code",
   "execution_count": 2,
   "metadata": {
    "collapsed": true
   },
   "outputs": [],
   "source": [
    "def eval_func(chromosome):\n",
    "   score = 0.0\n",
    "   for value in chromosome:\n",
    "      if value==0:\n",
    "         score += 1.0\n",
    "   return score"
   ]
  },
  {
   "cell_type": "code",
   "execution_count": 3,
   "metadata": {
    "collapsed": false
   },
   "outputs": [
    {
     "data": {
      "text/plain": [
       "3.0"
      ]
     },
     "execution_count": 3,
     "metadata": {},
     "output_type": "execute_result"
    }
   ],
   "source": [
    "eval_func(x)"
   ]
  },
  {
   "cell_type": "markdown",
   "metadata": {},
   "source": [
    "As you can see, this evaluation function verify each element in the list which is equal to ‘0’ and return the proportional score value. The G1DList.G1DList chromosome is not a python list by itself but it encapsulates one and exposes the methods for this list, like the iterator used in the above loop. The next step is the creation of an one sample genome for the Genetic Algorithm. We can define our genome as this:"
   ]
  },
  {
   "cell_type": "code",
   "execution_count": 4,
   "metadata": {
    "collapsed": false
   },
   "outputs": [],
   "source": [
    "from pyevolve import G1DList\n",
    "\n",
    "# Genome instance\n",
    "genome = G1DList.G1DList(20)\n",
    "\n",
    "# The evaluator function (objective function)\n",
    "genome.evaluator.set(eval_func)"
   ]
  },
  {
   "cell_type": "markdown",
   "metadata": {},
   "source": [
    "This will create an instance of the G1DList.G1DList class (which resides in the G1DList module) with the list n-size of 20 and sets the evaluation function of the genome to the evaluation function “eval_func” that we have created before.\n",
    "<p>\n",
    "But wait, where is the range of integers that will be used in the list ? Where is the mutator, crossover and initialization functions ? They are all in the default parameters, as you see, this parameters keep things simple.\n",
    "<p>\n",
    "By default (and you have the documentation to find this defaults), the range of the integers in the G1DList.G1DList is between the inverval [ Consts.CDefRangeMin, Consts.CDefRangeMax] inclusive, and genetic operators are those cited before: \n",
    "<ul>\n",
    "<li>Swap Mutator: Mutators.G1DListMutatorSwap()\n",
    "<li>One Point Crossover: Crossovers.G1DListCrossoverSinglePoint() \n",
    "<li>Integer Initializator: Initializators.G1DListInitializatorInteger()\n",
    "</ul>\n",
    "<p>You can change everything with the API, for example, you can pass the ranges to the genome, like this:"
   ]
  },
  {
   "cell_type": "code",
   "execution_count": 5,
   "metadata": {
    "collapsed": true
   },
   "outputs": [],
   "source": [
    "genome.setParams(rangemin=0, rangemax=10)"
   ]
  },
  {
   "cell_type": "markdown",
   "metadata": {},
   "source": [
    "Right, now we have our evaluation function and our first genome ready, the next step is to create our Genetic Algorithm Engine, the GA Core which will do the evolution, control statistics, etc... The GA Engine which we will use is the GSimpleGA.GSimpleGA which resides in the GSimpleGA module, this GA Engine is the genetic algorithm described by Goldberg. So, let’s create the engine:"
   ]
  },
  {
   "cell_type": "code",
   "execution_count": 6,
   "metadata": {
    "collapsed": false
   },
   "outputs": [],
   "source": [
    "from pyevolve import GSimpleGA\n",
    "ga = GSimpleGA.GSimpleGA(genome)"
   ]
  },
  {
   "cell_type": "markdown",
   "metadata": {},
   "source": [
    "Ready! Simple, not? We simple create our GA Engine with the created genome. You can ask: “Where is the selector method? The number of generations? Mutation rate?“. Again: we have defaults. By default, the GA will evolve for 100 generations with a population size of 80 individuals, it will use the mutation rate of 2% and a crossover rate of 80%, the default selector is the Ranking Selection (Selectors.GRankSelector()) method. Those default parameters was not random picked, they are all based on the commom used properties.\n",
    "<p>\n",
    "Now, all we need to do is to evolve! The code below shows the call of the GSimpleGA.GSimpleGA.evolve() method, with the parameter freq_stats=10, which will do the evolution and will show the statistics every 10th generation. The next method called is the GSimpleGA.GSimpleGA.bestIndividual(), which will return the best individual after the end of the evolution. Finally, with the print python command, we will show the genome on the screen."
   ]
  },
  {
   "cell_type": "code",
   "execution_count": 7,
   "metadata": {
    "collapsed": false
   },
   "outputs": [
    {
     "name": "stdout",
     "output_type": "stream",
     "text": [
      "Gen. 0 (0.00%): Max/Min/Avg Fitness(Raw) [2.35(6.00)/1.77(0.00)/1.96(1.96)]\n",
      "Gen. 10 (10.00%): Max/Min/Avg Fitness(Raw) [13.20(12.00)/8.80(10.00)/11.00(11.00)]\n",
      "Gen. 20 (20.00%): Max/Min/Avg Fitness(Raw) [20.00(20.00)/20.00(20.00)/20.00(20.00)]\n",
      "Gen. 30 (30.00%): Max/Min/Avg Fitness(Raw) [20.00(20.00)/20.00(20.00)/20.00(20.00)]\n",
      "Gen. 40 (40.00%): Max/Min/Avg Fitness(Raw) [20.00(20.00)/20.00(20.00)/20.00(20.00)]\n",
      "Gen. 50 (50.00%): Max/Min/Avg Fitness(Raw) [20.00(20.00)/20.00(20.00)/20.00(20.00)]\n",
      "Gen. 60 (60.00%): Max/Min/Avg Fitness(Raw) [20.00(20.00)/20.00(20.00)/20.00(20.00)]\n",
      "Gen. 70 (70.00%): Max/Min/Avg Fitness(Raw) [20.00(20.00)/20.00(20.00)/20.00(20.00)]\n",
      "Gen. 80 (80.00%): Max/Min/Avg Fitness(Raw) [20.00(20.00)/20.00(20.00)/20.00(20.00)]\n",
      "Gen. 90 (90.00%): Max/Min/Avg Fitness(Raw) [20.00(20.00)/20.00(20.00)/20.00(20.00)]\n",
      "Gen. 100 (100.00%): Max/Min/Avg Fitness(Raw) [20.00(20.00)/20.00(20.00)/20.00(20.00)]\n",
      "Total time elapsed: 0.630 seconds.\n",
      "- GenomeBase\n",
      "\tScore:\t\t\t 20.000000\n",
      "\tFitness:\t\t 20.000000\n",
      "\n",
      "\tParams:\t\t {'rangemax': 10, 'rangemin': 0}\n",
      "\n",
      "\tSlot [Evaluator] (Count: 1)\n",
      "\t\tName: eval_func - Weight: 0.50\n",
      "\tSlot [Initializator] (Count: 1)\n",
      "\t\tName: G1DListInitializatorInteger - Weight: 0.50\n",
      "\t\tDoc:  Integer initialization function of G1DList\n",
      "\n",
      "    This initializator accepts the *rangemin* and *rangemax* genome parameters.\n",
      "\n",
      "    \n",
      "\tSlot [Mutator] (Count: 1)\n",
      "\t\tName: G1DListMutatorSwap - Weight: 0.50\n",
      "\t\tDoc:  The mutator of G1DList, Swap Mutator\n",
      "\n",
      "   .. note:: this mutator is :term:`Data Type Independent`\n",
      "\n",
      "   \n",
      "\tSlot [Crossover] (Count: 1)\n",
      "\t\tName: G1DListCrossoverSinglePoint - Weight: 0.50\n",
      "\t\tDoc:  The crossover of G1DList, Single Point\n",
      "\n",
      "   .. warning:: You can't use this crossover method for lists with just one element.\n",
      "\n",
      "   \n",
      "\n",
      "- G1DList\n",
      "\tList size:\t 20\n",
      "\tList:\t\t [0, 0, 0, 0, 0, 0, 0, 0, 0, 0, 0, 0, 0, 0, 0, 0, 0, 0, 0, 0]\n",
      "\n",
      "\n"
     ]
    }
   ],
   "source": [
    "# Do the evolution, with stats dump\n",
    "# frequency of 10 generations\n",
    "ga.evolve(freq_stats=10)\n",
    "\n",
    "# Best individual\n",
    "print ga.bestIndividual()"
   ]
  },
  {
   "cell_type": "markdown",
   "metadata": {},
   "source": [
    "This is the evolution of our Genetic Algorithm with the best individual show at the end of the evolution. As you can see, the population have obtained the best raw score (20.00) near the generation 20."
   ]
  },
  {
   "cell_type": "code",
   "execution_count": null,
   "metadata": {
    "collapsed": true
   },
   "outputs": [],
   "source": []
  }
 ],
 "metadata": {
  "kernelspec": {
   "display_name": "Python 2",
   "language": "python",
   "name": "python2"
  },
  "language_info": {
   "codemirror_mode": {
    "name": "ipython",
    "version": 2
   },
   "file_extension": ".py",
   "mimetype": "text/x-python",
   "name": "python",
   "nbconvert_exporter": "python",
   "pygments_lexer": "ipython2",
   "version": "2.7.11"
  }
 },
 "nbformat": 4,
 "nbformat_minor": 0
}
